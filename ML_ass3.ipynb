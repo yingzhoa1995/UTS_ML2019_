{
  "nbformat": 4,
  "nbformat_minor": 0,
  "metadata": {
    "colab": {
      "name": "ML_ass3.ipynb",
      "provenance": [],
      "collapsed_sections": [],
      "toc_visible": true,
      "include_colab_link": true
    },
    "kernelspec": {
      "name": "python3",
      "display_name": "Python 3"
    }
  },
  "cells": [
    {
      "cell_type": "markdown",
      "metadata": {
        "id": "view-in-github",
        "colab_type": "text"
      },
      "source": [
        "<a href=\"https://colab.research.google.com/github/yingzhoa1995/UTS_ML2019_/blob/master/ML_ass3.ipynb\" target=\"_parent\"><img src=\"https://colab.research.google.com/assets/colab-badge.svg\" alt=\"Open In Colab\"/></a>"
      ]
    },
    {
      "cell_type": "markdown",
      "metadata": {
        "id": "EljrpcyMKpnC",
        "colab_type": "text"
      },
      "source": [
        "# **Links**\n",
        "Video: https://youtu.be/Iu1jplONWzI\n",
        "\n",
        "Paper:"
      ]
    },
    {
      "cell_type": "markdown",
      "metadata": {
        "id": "G3Csrcfp_hGi",
        "colab_type": "text"
      },
      "source": [
        "**Student Name: Ying Zhao**\n",
        "\n",
        "**Student ID:12830802** \n",
        "\n",
        "**Course: 32513- Machine Learning** "
      ]
    },
    {
      "cell_type": "markdown",
      "metadata": {
        "id": "PjzsQc-bAvC_",
        "colab_type": "text"
      },
      "source": [
        "# **1. Project title**\n",
        "\n",
        "Lego’s sales forecast in the Chinese market and improve market competitiveness"
      ]
    },
    {
      "cell_type": "markdown",
      "metadata": {
        "id": "CrLvR_aNAvGT",
        "colab_type": "text"
      },
      "source": [
        "# **2. Aims & Objectives**"
      ]
    },
    {
      "cell_type": "markdown",
      "metadata": {
        "id": "g8LI3TvPAvJB",
        "colab_type": "text"
      },
      "source": [
        "## **2.1 Aims**\n",
        "The main purpose of the project is to design a new series of products for the Chinese region and forecast sales; to improve the competitiveness in the Chinese market.\n",
        "\n"
      ]
    },
    {
      "cell_type": "markdown",
      "metadata": {
        "id": "FsEzZrpUAvL2",
        "colab_type": "text"
      },
      "source": [
        "## **2.2 Objectives**\n",
        "\n",
        "The overall aim needs to be divided into several objectives to achieve:\n",
        "\n",
        "\n",
        "- Design a new collection by investigating and analyzing Chinese traditional themes that Chinese LEGO enthusiasts like.\n",
        "\n",
        "- Build appropriate models through consumer purchase data and make future sales forecasts for new products to be launched in China.\n",
        "\n",
        "- Make further plans through sales forecasts.\n"
      ]
    },
    {
      "cell_type": "markdown",
      "metadata": {
        "id": "_v7s6coAAvOc",
        "colab_type": "text"
      },
      "source": [
        "# **3. Background**\n",
        "Lego was born in Denmark in 1932 and has a history of nearly 90 years. Its trademark \"LEGO\" comes from the Danish word \"LEg GOdt\", meaning \"play well\". From elementary construction to high-level challenges to digital exploration, LEGO continues to extend its production line. In 1983, the LEGO Group brought products to the Chinese market for the first time. However, it did not attract consumers' attention when it first arrived. Consumers generally think that Lego is \"this toy is too expensive.\"\n",
        "\n",
        "Since then, in order to adapt to the Chinese market, Lego has been polishing its products and is committed to bringing the LEGO play system to China. For example, in the \"Oriental Adventure Series\" in 2003, a large castle suite on the theme of ancient China was launched. In 2013, the Chinese version of the limited edition \"The Year of the Snake\" was specially designed, and the Great Wall in the 2016 city skyline series.\n",
        "With the improvement of living standards, Chinese people pay more attention to children's intellectual development, and Lego's market in China is gradually opening. According to the survey, the revenue of the LEGO Group in China in 2015 increased by 40% year-on-year. Since 2016, its revenue in China has grown by a strong double-digit growth rate. In addition, LEGO's market share in building toys category in China has also expanded, from single digits to 33.2% in 2015, ranking first in China.\n",
        "\n",
        "On March 25, 2017, the first LEGO authorized store in mainland China opened in Shanghai. On the same day, the highest single-day sales record of the global Lego store was born. On May 13 of the same year, the LEGO authorized store under the Kidsland opened in Joy City, Beijing, and the sales record of China Lego was once again broken.\n",
        "On February 22, 2019, Lego's first flagship store in the core area of Wangfujing in Beijing officially opened. This is the second flagship store opened by LEGO in China in the first half of the year and the third in Lego in China. In the future, in the face of the double-digit growth of the Chinese market, the world's toy giant Lego will continue to raise and continue to accelerate its expansion in the Chinese market.\n"
      ]
    },
    {
      "cell_type": "markdown",
      "metadata": {
        "id": "AfJvc_LZAvRK",
        "colab_type": "text"
      },
      "source": [
        "# **4. Research Project**\n"
      ]
    },
    {
      "cell_type": "markdown",
      "metadata": {
        "id": "FlDn09FGAvT4",
        "colab_type": "text"
      },
      "source": [
        "## **4.1 Significance**\n",
        "Significance of the project need to be considered from a different perspective.\n",
        "\n",
        "First consider whether the project can bring benefits to the company. The data shows that since 2011, the number of Chinese population aged 0-14 has increased year by year, reaching 230 million in 2017. The end consumer groups of domestic toys mainly face children aged 0-14, which can be said to be huge consumer groups.\n",
        "In addition, in 2017, the global toy industry market sales were 85.146 billion US dollars, a growth rate of 3.5%. In the European and American markets, while the negative growth, the Chinese toy market sales reached 11.012 billion US dollars, an increase of 7.4%. The per capita toy consumption of children in the Chinese market was US$45.3 in 2017, which was less than 1/8 of the same period in the US. The growth and development space are still large. It is expected that in the next three years, the Chinese toy market will maintain a growth rate of 6-8% and continue to lead the global market.\n",
        "\n",
        "From a project perspective, it is meaningful to forecast sales in the Chinese market. Sales forecasts are very valuable for operational guidance. Accurate sales forecasts can guide back-end operations to make reasonable resource matching and optimization in advance, avoiding waste or bottlenecks. For example, the construction of the call center and the logistics center is carried out in advance, the call center employees are reserved in advance, and the packaging, consumables procurement and stocking are carried out in advance. The improvement of business operation efficiency mainly depends on two factors: the accuracy of prediction and the response speed of the supply chain, that is, the efficiency of the supply chain. If the accuracy of the forecast is high, even if the response speed of the supply chain is not fast enough, high turnover of inventory and capital can be achieved; if the forecasting accuracy is insufficient and the supply chain is fast enough, high turnover can be achieved. The basis for procurement management, replenishment management, and sales management is sales forecasting. Of course, the perfect one is high-precision prediction combined with high-efficiency supply chain response. Forecasting is almost the ultimate problem of business intelligence research. It is extremely difficult to predict accurately when the company maintains high growth. Another feature of forecasting is that short-term prediction accuracy is much higher than long-term prediction accuracy. The forecast for next week's sales must be higher than the forecast for next month.\n",
        "\n",
        "Therefore, the project hopes to improve its competitiveness in the industry through sales forecasts for LEGO in China.\n"
      ]
    },
    {
      "cell_type": "markdown",
      "metadata": {
        "id": "RAa3XGCLAvW4",
        "colab_type": "text"
      },
      "source": [
        "## **4.2 Innovation**\n",
        "First of all, the project is going to design a new series through the traditional Chinese theme that Chinese LEGO enthusiasts like. LEGO did not design a series of products for specific cultural backgrounds or regions.\n",
        "\n",
        "In addition, the project uses machine learning to make sales forecasts for upcoming products. Although many e-commerce platforms now forecast annual sales, the toy industry uses less sales forecasts.\n"
      ]
    },
    {
      "cell_type": "markdown",
      "metadata": {
        "id": "R25GpopJAvZs",
        "colab_type": "text"
      },
      "source": [
        "## **4.3 Project Plan**\n",
        "The project is a large project that takes a year to complete. During the project, each sub-project must be completed on time to ensure that the project is completed smoothly and on time. The project can be divided into five steps, as follows.\n",
        "\n",
        "**New series design**\n",
        "\n",
        "According to market research and demand, a series of new products will be launched for one of the topics that Chinese LEGO fans like.\n",
        "\n",
        "\n",
        "**Determine the forecast target** \n",
        "\n",
        "The first step is to determine the forecasting target, and we need to predict the sales of LEGO's upcoming products in China.\n",
        "\n",
        "At the same time, there is usually an expectation in making sales forecasts. We hope that this forecast will be forecasted for the next 4 weeks, or the forecast for the next 5 days. This is a short-term forecast and a long-term forecast. Usually, we have to predict the next month. The sales volume requires at least two years of data.\n",
        "In addition, because of the need to interface with the business, business objectives are also important. On the one hand, the accuracy of the model, that is, we can give an accuracy; on the other hand, the interpretability of the model, that is, our results are more likely to be handed over and communicated according to the later business departments.\n",
        "\n",
        "\n",
        "**Data preparation**\n",
        "\n",
        "This step usually involves three small sub-steps: collecting data, data exploration, and data preprocessing. Get as much data as possible and understand the meaning behind the data.\n",
        "\n",
        "Data collection needs to be collected by professional data experts because it is necessary to select data that is suitable for prediction to perform modeling analysis.\n",
        "\n",
        "The purpose of data exploration is to better discover the laws of data and provide a guiding solution for application modeling.\n",
        "\n",
        "The data preprocessing phase is actually a process of cleaning data. Data cleaning is divided into supervised cleaning and unsupervised cleaning.\n",
        "In actual projects, fully supervised cleaning estimates are unlikely. Therefore, it is generally necessary to perform unsupervised cleaning and generate a corresponding cleaning report, and then let the experts manually sort the cleaning results according to a clear report. Before data cleaning, we need to analyze the characteristics of the data and define the data cleaning rules. In order to ensure the quality of the cleaning after cleaning, we also need to verify the cleaning results. The analysis of the data is based on relevant business knowledge and corresponding technologies, such as statistics, data mining methods, analyzing the characteristics of the data in the data source, and laying the foundation for defining data cleaning rules. Commonly used cleaning rules mainly include: inspection and processing of null values; detection and processing of illegal values; detection and processing of inconsistent data; detection and processing of similar repeated records. When performing data cleaning rules, you need to check for spelling errors, remove duplicate records, fill incomplete records, resolve inconsistent records, verify data with test queries, and finally generate clear reports. In the verification of cleaning results, it is necessary to verify and evaluate the correctness and efficiency of the defined cleaning conversion rules. When the cleaning requirements are not met, the cleaning rules or system parameters should be adjusted and improved. The data cleaning process often requires multiple iterations. Perform analysis, design and verification. The cleaning method mainly uses various transformation functions, formatting functions, and summary decomposition functions to achieve cleaning based on the analysis of the causes of inconsistencies.\n",
        "\n",
        "The data preparation stage of the data is the most important for the entire project, because all forecasting analysis must have a suitable data set to verify, so having a good data set is indispensable.\n",
        "\n",
        "In addition, 80% of the collected data is used to make training set data.\n",
        "\n",
        "\n",
        "**Data Modelling**\n",
        "\n",
        "Before building a model, make the following assumptions about the model:\n",
        "\n",
        "(1) Assume that the sales volume of each commodity in China can be reflected to a certain extent through historical level, that is, it has inheritance, and historical sales can predict sales to a certain extent.\n",
        "\n",
        "(2) It is assumed that the influencing factors of commodity sales in the next three months will not be significantly different from the previous five years, that is, there will be no uncontrollable factors caused by emergency situations.\n",
        "\n",
        "When modeling, the purpose is to address business problems, therefore we need to select the appropriate algorithm. Commonly used modeling algorithms include regression models, decision trees (regression tree) models, random forests, xgboost, neural networks, and support vector regression.\n",
        "\n",
        "After determining the algorithm, it is necessary to look at whether the variable satisfies the algorithm requirements, and if not, return to the selection/reconstruction variable. After the algorithm is selected, it needs to be modeled with data analysis tools. For different models, it is necessary to adjust the parameters, such as the K-means algorithm in the clustering model. It is necessary to give the number of categories that you want to aggregate, and further to give the starting cluster center and the upper limit of the number of iterations.\n",
        "\n",
        "In this project, we can use python and python library to implement. Pandas module is a module used by Python for data import and sorting. It is very useful for data pre-processing of data mining. In addition, using the sklearn module also is a good choice. It is a very powerful machine learning library provided by Python third parties, which covers everything from data preprocessing to training models. Using scikit-learn can save us a lot of time in writing code and reduce the amount of code we have, so we have more energy to analyze the data distribution, adjust the model and modify the super parameters.\n",
        "\n",
        "**Evaluation**\n",
        "\n",
        "\n",
        "After the modeling is complete, this phase will be completed by the IT team. After the final model is predicted and the results are obtained, they are then evaluated by professionals. The application of the model is a cyclic iterative process. Through continuous evaluation and adjustment, the model suitable for the business goal is found, and with the new data generated, the model may no longer be applicable, and the model evaluation can find the problem in time.\n",
        "\n",
        "After the model finishes running, it is necessary to determine whether the algorithm can solve the problem according to the output result of the algorithm. For example, if the result of K-means is not good, then consider replacing it with a system clustering algorithm. Or the results of the regression model output do not meet the requirements, consider using time series to do.\n",
        "If we don't need to change the algorithm, then we can test whether the output of the algorithm can be improved. In the process of continuously adjusting parameters and optimizing the model, the interpretation ability and practicability of the model will continue to improve. When we think that the model has been able to meet the target needs, then we can output the results.\n",
        "\n",
        "The only criterion for measuring whether a company increases its profits cannot rely solely on the predictive effects of machine learning. It also needs to be measured in terms of factors such as the market and advertising.\n",
        "\n",
        "\n",
        "\n"
      ]
    },
    {
      "cell_type": "markdown",
      "metadata": {
        "id": "wbHGnlt0Gaf5",
        "colab_type": "text"
      },
      "source": [
        "## **4.4 Timeline**\n",
        "The project is divided into five main stages. Each stage has its subproject completed, and the project should be considered on time, as the project requires a year.\n",
        "First, designing a new product should give the design department plenty of time to be creative. Then, make sales forecasts for new products. Collecting and processing data is an important part of the project. Good quality data can help us to better model later, so it takes two to three months to complete in the data preprocessing stage. The modeling and evaluation sections are done using the rest of the time.\n",
        "The Gantt chart is shown below.\n",
        "\n",
        "![Gantt](https://raw.githubusercontent.com/yingzhoa1995/UTS_ML2019_/master/Gantt.png)\n",
        "\n"
      ]
    },
    {
      "cell_type": "markdown",
      "metadata": {
        "id": "s0RDQAMlGar9",
        "colab_type": "text"
      },
      "source": [
        "## **4.5 Outcome**\n",
        "The project will cost $10 million. Chinese toy market sales in 2018 reached 4.5 billion dollar. while LEGO only accounted for less than 10%. It can be seen that in the Chinese market, LEGO can still have a high improvement. The project designs new products with a cultural background for the Chinese market and forecasts sales for new products. If this project is successful, it can enhance the popularity of LEGO in China and attract the love of all ages， and it will benefit in China for a long time.\n",
        "\n",
        "At the same time, through the success of the project, LEGO can design cultures in other regions to spread the culture of each region, which not only can enhance the popularity of LEGO in the market, but also make Lego toys more meaningful and deepen the cultural meaning of the company.\n"
      ]
    },
    {
      "cell_type": "markdown",
      "metadata": {
        "id": "7AMVmeoXGavy",
        "colab_type": "text"
      },
      "source": [
        "# **5. Budget**\n",
        "According to Lego's budget for a movie, it can be estimated that the project's budget is about 40 million US dollars. Including the purchase of equipment, the salary of the staff; a reasonable budget can ensure the smooth progress of the project and get the highest rate of return\n",
        "![Budget](https://raw.githubusercontent.com/yingzhoa1995/UTS_ML2019_/master/Budget.png)"
      ]
    },
    {
      "cell_type": "markdown",
      "metadata": {
        "id": "i-bD1y1fGazH",
        "colab_type": "text"
      },
      "source": [
        "# **6. Personnel**\n",
        "The success of a project depends on the team's efforts. In this project, employees of different functions are responsible for different project parts. The specific contributions are shown in the table below.\n",
        "\n",
        "![Personnel](https://raw.githubusercontent.com/yingzhoa1995/UTS_ML2019_/master/Personnel.png)"
      ]
    },
    {
      "cell_type": "markdown",
      "metadata": {
        "id": "P6srj2KIP7nu",
        "colab_type": "text"
      },
      "source": [
        "# **Reference**\n",
        "1. Akbulut, A. 2019, 'Benchmarking of Regression Algorithms and Time Series Analysis Techniques for Sales Forecasting'.\n",
        "\n",
        "2. Dalrymple, D.J. 1987, 'Sales forecasting practices: Results from a United States survey', *International Journal of Forecasting*, vol. 3, no. 3-4, pp. 379-91.\n",
        "\n",
        "3. Thiesing, F.M. & Vornberger, O. 1997, 'Sales forecasting using neural networks', *Proceedings of International Conference on Neural Networks (ICNN'97)*, vol. 4, IEEE, pp. 2125-8."
      ]
    }
  ]
}